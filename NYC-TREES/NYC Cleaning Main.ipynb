{
 "cells": [
  {
   "cell_type": "markdown",
   "metadata": {},
   "source": [
    "#### Instal base"
   ]
  },
  {
   "cell_type": "code",
   "execution_count": 640,
   "metadata": {},
   "outputs": [],
   "source": [
    "import pandas as pd\n",
    "import seaborn as sns\n",
    "import numpy as np"
   ]
  },
  {
   "cell_type": "markdown",
   "metadata": {},
   "source": [
    "#### Setting the DF up"
   ]
  },
  {
   "cell_type": "code",
   "execution_count": 641,
   "metadata": {},
   "outputs": [],
   "source": [
    "path = 'https://raw.githubusercontent.com/becodeorg/GNT-Arai-2.31/master/content/additional_resources/datasets/NYC%20trees/data_100000.csv?token=AJZF73LAR5VMWM3XUEBC4W3A43EJM'\n",
    "NYC_Three_Data_Original = pd.read_csv(path, sep=',')\n",
    "df_copy = NYC_Three_Data_Original.copy()\n",
    "final_copy = NYC_Three_Data_Original.copy()\n"
   ]
  },
  {
   "cell_type": "code",
   "execution_count": 642,
   "metadata": {},
   "outputs": [
    {
     "name": "stdout",
     "output_type": "stream",
     "text": [
      "<class 'pandas.core.frame.DataFrame'>\n",
      "RangeIndex: 100000 entries, 0 to 99999\n",
      "Data columns (total 42 columns):\n",
      " #   Column      Non-Null Count   Dtype  \n",
      "---  ------      --------------   -----  \n",
      " 0   created_at  100000 non-null  object \n",
      " 1   tree_id     100000 non-null  int64  \n",
      " 2   block_id    100000 non-null  int64  \n",
      " 3   the_geom    100000 non-null  object \n",
      " 4   tree_dbh    100000 non-null  int64  \n",
      " 5   stump_diam  100000 non-null  int64  \n",
      " 6   curb_loc    100000 non-null  object \n",
      " 7   status      100000 non-null  object \n",
      " 8   health      95007 non-null   object \n",
      " 9   spc_latin   95008 non-null   object \n",
      " 10  spc_common  95008 non-null   object \n",
      " 11  steward     95008 non-null   object \n",
      " 12  guards      95008 non-null   object \n",
      " 13  sidewalk    95008 non-null   object \n",
      " 14  user_type   100000 non-null  object \n",
      " 15  problems    95008 non-null   object \n",
      " 16  root_stone  100000 non-null  object \n",
      " 17  root_grate  100000 non-null  object \n",
      " 18  root_other  100000 non-null  object \n",
      " 19  trnk_wire   100000 non-null  object \n",
      " 20  trnk_light  100000 non-null  object \n",
      " 21  trnk_other  100000 non-null  object \n",
      " 22  brnch_ligh  100000 non-null  object \n",
      " 23  brnch_shoe  100000 non-null  object \n",
      " 24  brnch_othe  100000 non-null  object \n",
      " 25  address     100000 non-null  object \n",
      " 26  zipcode     100000 non-null  int64  \n",
      " 27  zip_city    100000 non-null  object \n",
      " 28  cb_num      100000 non-null  int64  \n",
      " 29  borocode    100000 non-null  int64  \n",
      " 30  boroname    100000 non-null  object \n",
      " 31  cncldist    100000 non-null  int64  \n",
      " 32  st_assem    100000 non-null  int64  \n",
      " 33  st_senate   100000 non-null  int64  \n",
      " 34  nta         100000 non-null  object \n",
      " 35  nta_name    100000 non-null  object \n",
      " 36  boro_ct     100000 non-null  int64  \n",
      " 37  state       100000 non-null  object \n",
      " 38  latitude    100000 non-null  float64\n",
      " 39  longitude   100000 non-null  float64\n",
      " 40  x_sp        100000 non-null  float64\n",
      " 41  y_sp        100000 non-null  float64\n",
      "dtypes: float64(4), int64(11), object(27)\n",
      "memory usage: 32.0+ MB\n"
     ]
    }
   ],
   "source": [
    "NYC_Three_Data_Original.info()"
   ]
  },
  {
   "cell_type": "code",
   "execution_count": 643,
   "metadata": {},
   "outputs": [
    {
     "name": "stdout",
     "output_type": "stream",
     "text": [
      "<class 'pandas.core.frame.DataFrame'>\n",
      "RangeIndex: 100000 entries, 0 to 99999\n",
      "Data columns (total 42 columns):\n",
      " #   Column      Non-Null Count   Dtype  \n",
      "---  ------      --------------   -----  \n",
      " 0   created_at  100000 non-null  object \n",
      " 1   tree_id     100000 non-null  int64  \n",
      " 2   block_id    100000 non-null  int64  \n",
      " 3   the_geom    100000 non-null  object \n",
      " 4   tree_dbh    100000 non-null  int64  \n",
      " 5   stump_diam  100000 non-null  int64  \n",
      " 6   curb_loc    100000 non-null  object \n",
      " 7   status      100000 non-null  object \n",
      " 8   health      95007 non-null   object \n",
      " 9   spc_latin   95008 non-null   object \n",
      " 10  spc_common  95008 non-null   object \n",
      " 11  steward     95008 non-null   object \n",
      " 12  guards      95008 non-null   object \n",
      " 13  sidewalk    95008 non-null   object \n",
      " 14  user_type   100000 non-null  object \n",
      " 15  problems    95008 non-null   object \n",
      " 16  root_stone  100000 non-null  object \n",
      " 17  root_grate  100000 non-null  object \n",
      " 18  root_other  100000 non-null  object \n",
      " 19  trnk_wire   100000 non-null  object \n",
      " 20  trnk_light  100000 non-null  object \n",
      " 21  trnk_other  100000 non-null  object \n",
      " 22  brnch_ligh  100000 non-null  object \n",
      " 23  brnch_shoe  100000 non-null  object \n",
      " 24  brnch_othe  100000 non-null  object \n",
      " 25  address     100000 non-null  object \n",
      " 26  zipcode     100000 non-null  int64  \n",
      " 27  zip_city    100000 non-null  object \n",
      " 28  cb_num      100000 non-null  int64  \n",
      " 29  borocode    100000 non-null  int64  \n",
      " 30  boroname    100000 non-null  object \n",
      " 31  cncldist    100000 non-null  int64  \n",
      " 32  st_assem    100000 non-null  int64  \n",
      " 33  st_senate   100000 non-null  int64  \n",
      " 34  nta         100000 non-null  object \n",
      " 35  nta_name    100000 non-null  object \n",
      " 36  boro_ct     100000 non-null  int64  \n",
      " 37  state       100000 non-null  object \n",
      " 38  latitude    100000 non-null  float64\n",
      " 39  longitude   100000 non-null  float64\n",
      " 40  x_sp        100000 non-null  float64\n",
      " 41  y_sp        100000 non-null  float64\n",
      "dtypes: float64(4), int64(11), object(27)\n",
      "memory usage: 32.0+ MB\n"
     ]
    }
   ],
   "source": [
    "df_copy.info()"
   ]
  },
  {
   "cell_type": "markdown",
   "metadata": {},
   "source": [
    "## Deleting and changing names of columns ##"
   ]
  },
  {
   "cell_type": "code",
   "execution_count": 644,
   "metadata": {},
   "outputs": [],
   "source": [
    "#Rename the column tree_dbh to tree_diam\n",
    "df_copy = df_copy.rename(columns={'tree_dbh': 'tree_diam',})"
   ]
  },
  {
   "cell_type": "code",
   "execution_count": 645,
   "metadata": {},
   "outputs": [],
   "source": [
    "#Remove the_geom because we have latitude and longitude\n",
    "df_copy = df_copy.drop(columns='the_geom')"
   ]
  },
  {
   "cell_type": "code",
   "execution_count": 646,
   "metadata": {},
   "outputs": [],
   "source": [
    "#Remove the common name, only one latin name / science correct\n",
    "df_copy = df_copy.drop(columns='spc_common')"
   ]
  },
  {
   "cell_type": "code",
   "execution_count": 647,
   "metadata": {},
   "outputs": [],
   "source": [
    "#We can extract problems from the following columns root_stone, root_gather.., branch..\n",
    "df_copy = df_copy.drop(columns='problems')"
   ]
  },
  {
   "cell_type": "code",
   "execution_count": 648,
   "metadata": {},
   "outputs": [],
   "source": [
    "#We can define the city with zip code\n",
    "df_copy = df_copy.drop(columns='zip_city')"
   ]
  },
  {
   "cell_type": "code",
   "execution_count": 649,
   "metadata": {},
   "outputs": [],
   "source": [
    "#We keep the borough name\n",
    "df_copy = df_copy.drop(columns='borocode')"
   ]
  },
  {
   "cell_type": "code",
   "execution_count": 650,
   "metadata": {},
   "outputs": [],
   "source": [
    "#For technical reasons we keep nta code\n",
    "df_copy = df_copy.drop(columns='nta')"
   ]
  },
  {
   "cell_type": "code",
   "execution_count": 651,
   "metadata": {},
   "outputs": [],
   "source": [
    "#This is about New York, right ?\n",
    "df_copy = df_copy.drop(columns='state')"
   ]
  },
  {
   "cell_type": "code",
   "execution_count": 652,
   "metadata": {},
   "outputs": [],
   "source": [
    "#This is about New York, right ?\n",
    "df_copy = df_copy.drop(columns='st_assem')"
   ]
  },
  {
   "cell_type": "code",
   "execution_count": 653,
   "metadata": {},
   "outputs": [],
   "source": [
    "#This is about New York, right ?\n",
    "df_copy = df_copy.drop(columns='cncldist')"
   ]
  },
  {
   "cell_type": "code",
   "execution_count": 654,
   "metadata": {},
   "outputs": [],
   "source": [
    "#This is about New York, right ?\n",
    "df_copy = df_copy.drop(columns='st_senate')"
   ]
  },
  {
   "cell_type": "code",
   "execution_count": 655,
   "metadata": {},
   "outputs": [],
   "source": [
    "#This is about New York, right ?\n",
    "df_copy = df_copy.drop(columns='boro_ct')"
   ]
  },
  {
   "cell_type": "code",
   "execution_count": 656,
   "metadata": {},
   "outputs": [],
   "source": [
    "#This is about New York, right ?\n",
    "df_copy = df_copy.drop(columns='tree_id')"
   ]
  },
  {
   "cell_type": "code",
   "execution_count": 657,
   "metadata": {},
   "outputs": [],
   "source": [
    "#This is about New York, right ?#This is about New York, right ?\n",
    "df_copy = df_copy.drop(columns='block_id')"
   ]
  },
  {
   "cell_type": "markdown",
   "metadata": {},
   "source": [
    "## CONVERTING DTYPES and CHANGING VALUES of COLUMNS ##"
   ]
  },
  {
   "cell_type": "code",
   "execution_count": 658,
   "metadata": {},
   "outputs": [],
   "source": [
    "df_copy['created_at'] = df_copy['created_at'].astype('datetime64[ns]')"
   ]
  },
  {
   "cell_type": "markdown",
   "metadata": {},
   "source": [
    "Stewards collumn and copy for numbers of stewards collumn"
   ]
  },
  {
   "cell_type": "code",
   "execution_count": 659,
   "metadata": {},
   "outputs": [],
   "source": [
    "df_copy['nr_of_stewards'] = df_copy['steward'].apply(lambda x: x if not pd.isnull(x) else 'None')"
   ]
  },
  {
   "cell_type": "code",
   "execution_count": 660,
   "metadata": {},
   "outputs": [
    {
     "name": "stdout",
     "output_type": "stream",
     "text": [
      "<class 'pandas.core.frame.DataFrame'>\n",
      "RangeIndex: 100000 entries, 0 to 99999\n",
      "Data columns (total 30 columns):\n",
      " #   Column          Non-Null Count   Dtype         \n",
      "---  ------          --------------   -----         \n",
      " 0   created_at      100000 non-null  datetime64[ns]\n",
      " 1   tree_diam       100000 non-null  int64         \n",
      " 2   stump_diam      100000 non-null  int64         \n",
      " 3   curb_loc        100000 non-null  object        \n",
      " 4   status          100000 non-null  object        \n",
      " 5   health          95007 non-null   object        \n",
      " 6   spc_latin       95008 non-null   object        \n",
      " 7   steward         95008 non-null   object        \n",
      " 8   guards          95008 non-null   object        \n",
      " 9   sidewalk        95008 non-null   object        \n",
      " 10  user_type       100000 non-null  object        \n",
      " 11  root_stone      100000 non-null  object        \n",
      " 12  root_grate      100000 non-null  object        \n",
      " 13  root_other      100000 non-null  object        \n",
      " 14  trnk_wire       100000 non-null  object        \n",
      " 15  trnk_light      100000 non-null  object        \n",
      " 16  trnk_other      100000 non-null  object        \n",
      " 17  brnch_ligh      100000 non-null  object        \n",
      " 18  brnch_shoe      100000 non-null  object        \n",
      " 19  brnch_othe      100000 non-null  object        \n",
      " 20  address         100000 non-null  object        \n",
      " 21  zipcode         100000 non-null  int64         \n",
      " 22  cb_num          100000 non-null  int64         \n",
      " 23  boroname        100000 non-null  object        \n",
      " 24  nta_name        100000 non-null  object        \n",
      " 25  latitude        100000 non-null  float64       \n",
      " 26  longitude       100000 non-null  float64       \n",
      " 27  x_sp            100000 non-null  float64       \n",
      " 28  y_sp            100000 non-null  float64       \n",
      " 29  nr_of_stewards  100000 non-null  object        \n",
      "dtypes: datetime64[ns](1), float64(4), int64(4), object(21)\n",
      "memory usage: 22.9+ MB\n"
     ]
    }
   ],
   "source": [
    "df_copy.info()"
   ]
  },
  {
   "cell_type": "code",
   "execution_count": 661,
   "metadata": {},
   "outputs": [],
   "source": [
    "#def steward_function(df, column):\n",
    "    #for word in column :\n",
    "       # if word != \"None\":\n",
    "        #    return 1\n",
    "        #else :\n",
    "         #   return 0\n",
    "\n",
    "#df_copy['steward'] = steward_function(df_copy,'steward')\n",
    "\n",
    "#none = (df_copy.steward == 'None')\n",
    "#column_name_steward = 'steward'\n",
    "#df_copy.loc[alive, column_name_steward] = 0\n",
    "\n",
    "#one_or_two = (df_copy.steward == '1or2')\n",
    "#column_name_steward = 'steward'\n",
    "#df_copy.loc[alive, column_name_steward] = 1\n",
    "\n",
    "#three_or_four = (df_copy.steward == '3or4')\n",
    "#column_name_steward = 'steward'\n",
    "#df_copy.loc[alive, column_name_steward] = 1\n",
    "\n",
    "#four_or_more = (df_copy.steward == '4orMore')\n",
    "#column_name_steward = 'steward'\n",
    "#df_copy.loc[alive, column_name_steward] = 1\n",
    "\n",
    "df_copy.loc[df_copy.steward == \"None\", 'steward'] = 0\n",
    "df_copy.loc[df_copy.steward == \"1or2\", 'steward'] = 1\n",
    "df_copy.loc[df_copy.steward == \"3or4\", 'steward'] = 1\n",
    "df_copy.loc[df_copy.steward == \"4orMore\", 'steward'] = 1\n",
    "df_copy['steward'] = df_copy['steward'].astype('bool')"
   ]
  },
  {
   "cell_type": "code",
   "execution_count": 662,
   "metadata": {},
   "outputs": [
    {
     "name": "stdout",
     "output_type": "stream",
     "text": [
      "<class 'pandas.core.frame.DataFrame'>\n",
      "RangeIndex: 100000 entries, 0 to 99999\n",
      "Data columns (total 30 columns):\n",
      " #   Column          Non-Null Count   Dtype         \n",
      "---  ------          --------------   -----         \n",
      " 0   created_at      100000 non-null  datetime64[ns]\n",
      " 1   tree_diam       100000 non-null  int64         \n",
      " 2   stump_diam      100000 non-null  int64         \n",
      " 3   curb_loc        100000 non-null  object        \n",
      " 4   status          100000 non-null  object        \n",
      " 5   health          95007 non-null   object        \n",
      " 6   spc_latin       95008 non-null   object        \n",
      " 7   steward         100000 non-null  bool          \n",
      " 8   guards          95008 non-null   object        \n",
      " 9   sidewalk        95008 non-null   object        \n",
      " 10  user_type       100000 non-null  object        \n",
      " 11  root_stone      100000 non-null  object        \n",
      " 12  root_grate      100000 non-null  object        \n",
      " 13  root_other      100000 non-null  object        \n",
      " 14  trnk_wire       100000 non-null  object        \n",
      " 15  trnk_light      100000 non-null  object        \n",
      " 16  trnk_other      100000 non-null  object        \n",
      " 17  brnch_ligh      100000 non-null  object        \n",
      " 18  brnch_shoe      100000 non-null  object        \n",
      " 19  brnch_othe      100000 non-null  object        \n",
      " 20  address         100000 non-null  object        \n",
      " 21  zipcode         100000 non-null  int64         \n",
      " 22  cb_num          100000 non-null  int64         \n",
      " 23  boroname        100000 non-null  object        \n",
      " 24  nta_name        100000 non-null  object        \n",
      " 25  latitude        100000 non-null  float64       \n",
      " 26  longitude       100000 non-null  float64       \n",
      " 27  x_sp            100000 non-null  float64       \n",
      " 28  y_sp            100000 non-null  float64       \n",
      " 29  nr_of_stewards  100000 non-null  object        \n",
      "dtypes: bool(1), datetime64[ns](1), float64(4), int64(4), object(20)\n",
      "memory usage: 22.2+ MB\n"
     ]
    }
   ],
   "source": [
    "df_copy.info()"
   ]
  },
  {
   "cell_type": "code",
   "execution_count": 663,
   "metadata": {},
   "outputs": [],
   "source": [
    "df_copy.loc[df_copy.sidewalk == \"NoDamage\", 'sidewalk'] = 0\n",
    "df_copy.loc[df_copy.sidewalk == \"Damage\", 'sidewalk'] = 1\n",
    "df_copy['sidewalk'] = df_copy['sidewalk'].astype('bool')"
   ]
  },
  {
   "cell_type": "code",
   "execution_count": 664,
   "metadata": {},
   "outputs": [
    {
     "name": "stdout",
     "output_type": "stream",
     "text": [
      "<class 'pandas.core.frame.DataFrame'>\n",
      "RangeIndex: 100000 entries, 0 to 99999\n",
      "Data columns (total 30 columns):\n",
      " #   Column          Non-Null Count   Dtype         \n",
      "---  ------          --------------   -----         \n",
      " 0   created_at      100000 non-null  datetime64[ns]\n",
      " 1   tree_diam       100000 non-null  int64         \n",
      " 2   stump_diam      100000 non-null  int64         \n",
      " 3   curb_loc        100000 non-null  object        \n",
      " 4   status          100000 non-null  object        \n",
      " 5   health          95007 non-null   object        \n",
      " 6   spc_latin       95008 non-null   object        \n",
      " 7   steward         100000 non-null  bool          \n",
      " 8   guards          95008 non-null   object        \n",
      " 9   sidewalk        100000 non-null  bool          \n",
      " 10  user_type       100000 non-null  object        \n",
      " 11  root_stone      100000 non-null  object        \n",
      " 12  root_grate      100000 non-null  object        \n",
      " 13  root_other      100000 non-null  object        \n",
      " 14  trnk_wire       100000 non-null  object        \n",
      " 15  trnk_light      100000 non-null  object        \n",
      " 16  trnk_other      100000 non-null  object        \n",
      " 17  brnch_ligh      100000 non-null  object        \n",
      " 18  brnch_shoe      100000 non-null  object        \n",
      " 19  brnch_othe      100000 non-null  object        \n",
      " 20  address         100000 non-null  object        \n",
      " 21  zipcode         100000 non-null  int64         \n",
      " 22  cb_num          100000 non-null  int64         \n",
      " 23  boroname        100000 non-null  object        \n",
      " 24  nta_name        100000 non-null  object        \n",
      " 25  latitude        100000 non-null  float64       \n",
      " 26  longitude       100000 non-null  float64       \n",
      " 27  x_sp            100000 non-null  float64       \n",
      " 28  y_sp            100000 non-null  float64       \n",
      " 29  nr_of_stewards  100000 non-null  object        \n",
      "dtypes: bool(2), datetime64[ns](1), float64(4), int64(4), object(19)\n",
      "memory usage: 21.6+ MB\n"
     ]
    }
   ],
   "source": [
    "df_copy.info()"
   ]
  },
  {
   "cell_type": "markdown",
   "metadata": {},
   "source": [
    "### Changing Values in Columns stump_diam"
   ]
  },
  {
   "cell_type": "code",
   "execution_count": 665,
   "metadata": {},
   "outputs": [],
   "source": [
    "## Changing Values in Columns##add None values to stump_diam if = 0 and status Alive or Dead\n",
    "\n",
    "alive = (df_copy.status == 'Alive')\n",
    "column_name = 'stump_diam'\n",
    "df_copy.loc[alive, column_name] = 'None'\n",
    "\n",
    "dead = (df_copy.status == 'Dead')## Converting Dtypes of Columns - deleting and changing names of columns ##\n",
    "column_name = 'stump_diam'\n",
    "df_copy.loc[dead, column_name] = 'None'"
   ]
  },
  {
   "cell_type": "code",
   "execution_count": 666,
   "metadata": {},
   "outputs": [
    {
     "data": {
      "text/plain": [
       "None    97169\n",
       "5         145\n",
       "12        136\n",
       "4         133\n",
       "6         127\n",
       "        ...  \n",
       "49          1\n",
       "69          1\n",
       "67          1\n",
       "64          1\n",
       "43          1\n",
       "Name: stump_diam, Length: 75, dtype: int64"
      ]
     },
     "execution_count": 666,
     "metadata": {},
     "output_type": "execute_result"
    }
   ],
   "source": [
    "df_copy.stump_diam.value_counts()"
   ]
  },
  {
   "cell_type": "code",
   "execution_count": 667,
   "metadata": {
    "scrolled": true
   },
   "outputs": [
    {
     "name": "stdout",
     "output_type": "stream",
     "text": [
      "<class 'pandas.core.frame.DataFrame'>\n",
      "RangeIndex: 100000 entries, 0 to 99999\n",
      "Data columns (total 30 columns):\n",
      " #   Column          Non-Null Count   Dtype         \n",
      "---  ------          --------------   -----         \n",
      " 0   created_at      100000 non-null  datetime64[ns]\n",
      " 1   tree_diam       100000 non-null  int64         \n",
      " 2   stump_diam      100000 non-null  object        \n",
      " 3   curb_loc        100000 non-null  object        \n",
      " 4   status          100000 non-null  object        \n",
      " 5   health          95007 non-null   object        \n",
      " 6   spc_latin       95008 non-null   object        \n",
      " 7   steward         100000 non-null  bool          \n",
      " 8   guards          95008 non-null   object        \n",
      " 9   sidewalk        100000 non-null  bool          \n",
      " 10  user_type       100000 non-null  object        \n",
      " 11  root_stone      100000 non-null  object        \n",
      " 12  root_grate      100000 non-null  object        \n",
      " 13  root_other      100000 non-null  object        \n",
      " 14  trnk_wire       100000 non-null  object        \n",
      " 15  trnk_light      100000 non-null  object        \n",
      " 16  trnk_other      100000 non-null  object        \n",
      " 17  brnch_ligh      100000 non-null  object        \n",
      " 18  brnch_shoe      100000 non-null  object        \n",
      " 19  brnch_othe      100000 non-null  object        \n",
      " 20  address         100000 non-null  object        \n",
      " 21  zipcode         100000 non-null  int64         \n",
      " 22  cb_num          100000 non-null  int64         \n",
      " 23  boroname        100000 non-null  object        \n",
      " 24  nta_name        100000 non-null  object        \n",
      " 25  latitude        100000 non-null  float64       \n",
      " 26  longitude       100000 non-null  float64       \n",
      " 27  x_sp            100000 non-null  float64       \n",
      " 28  y_sp            100000 non-null  float64       \n",
      " 29  nr_of_stewards  100000 non-null  object        \n",
      "dtypes: bool(2), datetime64[ns](1), float64(4), int64(3), object(20)\n",
      "memory usage: 21.6+ MB\n"
     ]
    }
   ],
   "source": [
    "df_copy.info()"
   ]
  },
  {
   "cell_type": "markdown",
   "metadata": {},
   "source": [
    "### Removing non null values of Health, Latin Name, Guards"
   ]
  },
  {
   "cell_type": "code",
   "execution_count": 668,
   "metadata": {},
   "outputs": [],
   "source": [
    "df_copy['health'] = df_copy['health'].apply(lambda x: x if not pd.isnull(x) else 'None')\n",
    "df_copy['spc_latin'] = df_copy['spc_latin'].apply(lambda x: x if not pd.isnull(x) else 'Not-Specified')\n",
    "df_copy['guards'] = df_copy['guards'].apply(lambda x: x if not pd.isnull(x) else 'Not-Specified')"
   ]
  },
  {
   "cell_type": "code",
   "execution_count": 671,
   "metadata": {
    "scrolled": true
   },
   "outputs": [
    {
     "data": {
      "text/plain": [
       "Platanus x acerifolia                 11976\n",
       "Gleditsia triacanthos var. inermis    10648\n",
       "Pyrus calleryana                       8886\n",
       "Quercus palustris                      7748\n",
       "Acer platanoides                       5925\n",
       "                                      ...  \n",
       "Alnus glutinosa                           5\n",
       "Cedrus atlantica                          5\n",
       "Maclura pomifera                          4\n",
       "Pinus sylvestris                          3\n",
       "Pinus virginiana                          2\n",
       "Name: spc_latin, Length: 126, dtype: int64"
      ]
     },
     "execution_count": 671,
     "metadata": {},
     "output_type": "execute_result"
    }
   ],
   "source": [
    "df_copy.spc_latin.value_counts()"
   ]
  },
  {
   "cell_type": "code",
   "execution_count": 670,
   "metadata": {
    "scrolled": true
   },
   "outputs": [
    {
     "name": "stdout",
     "output_type": "stream",
     "text": [
      "<class 'pandas.core.frame.DataFrame'>\n",
      "RangeIndex: 100000 entries, 0 to 99999\n",
      "Data columns (total 30 columns):\n",
      " #   Column          Non-Null Count   Dtype         \n",
      "---  ------          --------------   -----         \n",
      " 0   created_at      100000 non-null  datetime64[ns]\n",
      " 1   tree_diam       100000 non-null  int64         \n",
      " 2   stump_diam      100000 non-null  object        \n",
      " 3   curb_loc        100000 non-null  object        \n",
      " 4   status          100000 non-null  object        \n",
      " 5   health          100000 non-null  object        \n",
      " 6   spc_latin       100000 non-null  object        \n",
      " 7   steward         100000 non-null  bool          \n",
      " 8   guards          100000 non-null  object        \n",
      " 9   sidewalk        100000 non-null  bool          \n",
      " 10  user_type       100000 non-null  object        \n",
      " 11  root_stone      100000 non-null  object        \n",
      " 12  root_grate      100000 non-null  object        \n",
      " 13  root_other      100000 non-null  object        \n",
      " 14  trnk_wire       100000 non-null  object        \n",
      " 15  trnk_light      100000 non-null  object        \n",
      " 16  trnk_other      100000 non-null  object        \n",
      " 17  brnch_ligh      100000 non-null  object        \n",
      " 18  brnch_shoe      100000 non-null  object        \n",
      " 19  brnch_othe      100000 non-null  object        \n",
      " 20  address         100000 non-null  object        \n",
      " 21  zipcode         100000 non-null  int64         \n",
      " 22  cb_num          100000 non-null  int64         \n",
      " 23  boroname        100000 non-null  object        \n",
      " 24  nta_name        100000 non-null  object        \n",
      " 25  latitude        100000 non-null  float64       \n",
      " 26  longitude       100000 non-null  float64       \n",
      " 27  x_sp            100000 non-null  float64       \n",
      " 28  y_sp            100000 non-null  float64       \n",
      " 29  nr_of_stewards  100000 non-null  object        \n",
      "dtypes: bool(2), datetime64[ns](1), float64(4), int64(3), object(20)\n",
      "memory usage: 21.6+ MB\n"
     ]
    }
   ],
   "source": [
    "df_copy.info()"
   ]
  },
  {
   "cell_type": "markdown",
   "metadata": {},
   "source": [
    "### Writing to CVS File"
   ]
  },
  {
   "cell_type": "code",
   "execution_count": 673,
   "metadata": {},
   "outputs": [],
   "source": [
    "df_copy.to_csv('new_york_trees', sep=',', encoding='utf-8')"
   ]
  }
 ],
 "metadata": {
  "kernelspec": {
   "display_name": "Python 3",
   "language": "python",
   "name": "python3"
  },
  "language_info": {
   "codemirror_mode": {
    "name": "ipython",
    "version": 3
   },
   "file_extension": ".py",
   "mimetype": "text/x-python",
   "name": "python",
   "nbconvert_exporter": "python",
   "pygments_lexer": "ipython3",
   "version": "3.8.5"
  }
 },
 "nbformat": 4,
 "nbformat_minor": 4
}
